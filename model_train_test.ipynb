{
  "nbformat": 4,
  "nbformat_minor": 0,
  "metadata": {
    "colab": {
      "name": "Copy of ML_654 Transformers.ipynb",
      "provenance": [],
      "collapsed_sections": []
    },
    "kernelspec": {
      "name": "python3",
      "display_name": "Python 3"
    },
    "language_info": {
      "name": "python"
    }
  },
  "cells": [
    {
      "cell_type": "code",
      "execution_count": 1,
      "metadata": {
        "id": "kjc9Hfpd8JJV",
        "colab": {
          "base_uri": "https://localhost:8080/"
        },
        "outputId": "3cbc1c26-9bda-427e-f3dd-e34dd4e64bff"
      },
      "outputs": [
        {
          "output_type": "stream",
          "name": "stdout",
          "text": [
            "Mounted at /content/drive\n"
          ]
        }
      ],
      "source": [
        "from google.colab import drive\n",
        "drive.mount('/content/drive')"
      ]
    },
    {
      "cell_type": "code",
      "source": [
        "cd \"/content/drive/Shareddrives/Machine Learning - Transformers\""
      ],
      "metadata": {
        "id": "Om6Y18da98DT",
        "colab": {
          "base_uri": "https://localhost:8080/"
        },
        "outputId": "eaafdec2-c352-4789-b697-b3d8b12bda4a"
      },
      "execution_count": 1,
      "outputs": [
        {
          "output_type": "stream",
          "name": "stdout",
          "text": [
            "/content/drive/Shareddrives/Machine Learning - Transformers\n"
          ]
        }
      ]
    },
    {
      "cell_type": "code",
      "source": [
        "from tqdm import tqdm\n",
        "from sklearn.metrics import mean_squared_error\n",
        "import matplotlib.pyplot as plt"
      ],
      "metadata": {
        "id": "tLUK5noKQWZf"
      },
      "execution_count": 2,
      "outputs": []
    },
    {
      "cell_type": "markdown",
      "source": [
        "# Utils"
      ],
      "metadata": {
        "id": "oQCzsoRMPnWh"
      }
    },
    {
      "cell_type": "code",
      "source": [
        "def batchify_data(X_local, X_remote, y, batch_size = 24):\n",
        "    batches = []\n",
        "    for i in range(y.shape[0]//batch_size):\n",
        "        batches.append([X_local[i*batch_size:(i+1)*batch_size], X_remote[i*batch_size:(i+1)*batch_size], y[i*batch_size:(i+1)*batch_size]])\n",
        "    return batches"
      ],
      "metadata": {
        "id": "gqyR4zQMPnKy"
      },
      "execution_count": 3,
      "outputs": []
    },
    {
      "cell_type": "markdown",
      "source": [
        "# Transformer Model"
      ],
      "metadata": {
        "id": "CGaAGpJL-GUL"
      }
    },
    {
      "cell_type": "code",
      "source": [
        "# imports \n",
        "import torch\n",
        "import torch.nn as nn\n",
        "import torch.optim as optim\n",
        "\n",
        "import math\n",
        "import numpy as np\n",
        "import random"
      ],
      "metadata": {
        "id": "Fq11QuUh-Ti5"
      },
      "execution_count": 4,
      "outputs": []
    },
    {
      "cell_type": "code",
      "source": [
        "class PositionalEncoding(nn.Module):\n",
        "    def __init__(self, dim_model, dropout_p, max_len):\n",
        "        super().__init__()\n",
        "        # Modified version from: https://pytorch.org/tutorials/beginner/transformer_tutorial.html\n",
        "        # max_len determines how far the position can have an effect on a token (window)\n",
        "        \n",
        "        # Info\n",
        "        self.dropout = nn.Dropout(dropout_p)\n",
        "        \n",
        "        # Encoding - From formula\n",
        "        pos_encoding = torch.zeros(max_len, dim_model)\n",
        "        positions_list = torch.arange(0, max_len, dtype=torch.float).view(-1, 1) # 0, 1, 2, 3, 4, 5\n",
        "        division_term = torch.exp(torch.arange(0, dim_model, 2).float() * (-math.log(10000.0)) / dim_model) # 1000^(2i/dim_model)\n",
        "        \n",
        "        # PE(pos, 2i) = sin(pos/1000^(2i/dim_model))\n",
        "        pos_encoding[:, 0::2] = torch.sin(positions_list * division_term)\n",
        "        \n",
        "        # PE(pos, 2i + 1) = cos(pos/1000^(2i/dim_model))\n",
        "        pos_encoding[:, 1::2] = torch.cos(positions_list * division_term)\n",
        "        \n",
        "        # Saving buffer (same as parameter without gradients needed)\n",
        "        pos_encoding = pos_encoding.unsqueeze(0).transpose(0, 1)\n",
        "        self.register_buffer(\"pos_encoding\",pos_encoding)\n",
        "        \n",
        "    def forward(self, token_embedding: torch.tensor) -> torch.tensor:\n",
        "        # Residual connection + pos encoding\n",
        "        return self.dropout(token_embedding + self.pos_encoding[:token_embedding.size(0), :])"
      ],
      "metadata": {
        "id": "JkHsbKq4BK3e"
      },
      "execution_count": 5,
      "outputs": []
    },
    {
      "cell_type": "code",
      "source": [
        "class Transformer(nn.Module):\n",
        "    \"\"\"\n",
        "    Model from \"A detailed guide to Pytorch's nn.Transformer() module.\", by\n",
        "    Daniel Melchor: https://medium.com/@danielmelchor/a-detailed-guide-to-pytorchs-nn-transformer-module-c80afbc9ffb1\n",
        "    \"\"\"\n",
        "    # Constructor\n",
        "    def __init__(\n",
        "        self,\n",
        "        num_tokens,\n",
        "        dim_model,\n",
        "        num_heads,\n",
        "        num_encoder_layers,\n",
        "        num_decoder_layers,\n",
        "        dropout_p,\n",
        "    ):\n",
        "        super().__init__()\n",
        "\n",
        "        # INFO\n",
        "        self.model_type = \"Transformer\"\n",
        "        self.dim_model = dim_model\n",
        "\n",
        "        # LAYERS\n",
        "        self.positional_encoder = PositionalEncoding(\n",
        "            dim_model=dim_model, dropout_p=dropout_p, max_len=50000\n",
        "        )\n",
        "        self.embedding = nn.Embedding(num_tokens, dim_model)\n",
        "        self.transformer = nn.Transformer(\n",
        "            d_model=dim_model,\n",
        "            nhead=num_heads,\n",
        "            num_encoder_layers=num_encoder_layers,\n",
        "            num_decoder_layers=num_decoder_layers,\n",
        "            dropout=dropout_p,\n",
        "        )\n",
        "        # self.out = nn.Linear(dim_model, num_tokens)\n",
        "        \n",
        "    def forward(self, src, tgt, tgt_mask=None, src_pad_mask=None, tgt_pad_mask=None):\n",
        "        # Src size must be (batch_size, src sequence length)\n",
        "        # Tgt size must be (batch_size, tgt sequence length)\n",
        "\n",
        "        # Embedding + positional encoding - Out size = (batch_size, sequence length, dim_model)\n",
        "        src = src.long()\n",
        "        tgt = tgt.long()\n",
        "        # print(f\"src size {src.shape} \\t tgt size {tgt.shape}\")\n",
        "        src = self.embedding(src) * math.sqrt(self.dim_model)\n",
        "        tgt = self.embedding(tgt) * math.sqrt(self.dim_model)\n",
        "        src = self.positional_encoder(src)\n",
        "        tgt = self.positional_encoder(tgt)\n",
        "        \n",
        "        # We could use the parameter batch_first=True, but our KDL version doesn't support it yet, so we permute\n",
        "        # to obtain size (sequence length, batch_size, dim_model),\n",
        "        src = src.permute(1,0,2)\n",
        "        tgt = tgt.permute(1,0,2)\n",
        "\n",
        "        # Transformer blocks - Out size = (sequence length, batch_size, num_tokens)\n",
        "        transformer_out = self.transformer(src, tgt, tgt_mask=tgt_mask, src_key_padding_mask=src_pad_mask, tgt_key_padding_mask=tgt_pad_mask)\n",
        "        # out = self.out(transformer_out)\n",
        "        out = transformer_out\n",
        "        \n",
        "        return out\n",
        "      \n",
        "    def get_tgt_mask(self, size) -> torch.tensor:\n",
        "        # Generates a squeare matrix where the each row allows one word more to be seen\n",
        "        mask = torch.tril(torch.ones(size, size) == 1) # Lower triangular matrix\n",
        "        mask = mask.float()\n",
        "        mask = mask.masked_fill(mask == 0, float('-inf')) # Convert zeros to -inf\n",
        "        mask = mask.masked_fill(mask == 1, float(0.0)) # Convert ones to 0\n",
        "        \n",
        "        # EX for size=5:\n",
        "        # [[0., -inf, -inf, -inf, -inf],\n",
        "        #  [0.,   0., -inf, -inf, -inf],\n",
        "        #  [0.,   0.,   0., -inf, -inf],\n",
        "        #  [0.,   0.,   0.,   0., -inf],\n",
        "        #  [0.,   0.,   0.,   0.,   0.]]\n",
        "        \n",
        "        return mask\n",
        "    \n",
        "    def create_pad_mask(self, matrix: torch.tensor, pad_token: int) -> torch.tensor:\n",
        "        # If matrix = [1,2,3,0,0,0] where pad_token=0, the result mask is\n",
        "        # [False, False, False, True, True, True]\n",
        "        return (matrix == pad_token)"
      ],
      "metadata": {
        "id": "QpLIfvP1-e7Z"
      },
      "execution_count": 6,
      "outputs": []
    },
    {
      "cell_type": "markdown",
      "source": [
        "## Local Stations model"
      ],
      "metadata": {
        "id": "b49qcVmmZQQN"
      }
    },
    {
      "cell_type": "code",
      "source": [
        "class LocalStation(nn.Module):\n",
        "    def __init__(\n",
        "        self,\n",
        "        dim_model,\n",
        "        num_heads,\n",
        "        num_encoder_layers,\n",
        "        num_decoder_layers,\n",
        "        dropout_p,\n",
        "    ):\n",
        "        super().__init__()\n",
        "\n",
        "        self.model_type = 'local stations model'\n",
        "\n",
        "        # LAYERS\n",
        "        self.linear1 = nn.Linear(dim_model[1], 300)\n",
        "        self.linear2 = nn.Linear(300, 1)\n",
        "        self.relu = nn.ReLU()\n",
        "        self.transformer = Transformer(num_tokens=23, dim_model=dim_model[0], num_heads=num_heads, num_encoder_layers=num_encoder_layers, num_decoder_layers=num_decoder_layers, dropout_p=dropout_p)\n",
        "        self.out = nn.Linear(23, 1)\n",
        "    \n",
        "\n",
        "    def forward(self, X):\n",
        "        linear1_out = self.linear1(X)\n",
        "        linear2_out = self.linear2(linear1_out)\n",
        "        linear2_out = self.relu(linear2_out)\n",
        "        linear2_out_reshaped = torch.reshape(linear2_out, (linear2_out.shape[0], -1))\n",
        "\n",
        "        sequence_length = linear2_out_reshaped[:,:-1].size(1)\n",
        "\n",
        "        tgt_mask = self.transformer.get_tgt_mask(sequence_length).to(device)\n",
        "\n",
        "        transformer_out = self.transformer(linear2_out_reshaped[:,:-1], linear2_out_reshaped[:,1:], tgt_mask)\n",
        "        transformer_out = transformer_out.permute(1,2,0)\n",
        "        \n",
        "        out = self.out(transformer_out)\n",
        "        out = torch.reshape(out, (out.shape[0], -1))\n",
        "        return out"
      ],
      "metadata": {
        "id": "7tSX_UPh2a00"
      },
      "execution_count": 7,
      "outputs": []
    },
    {
      "cell_type": "markdown",
      "source": [
        "## Remote Stations Model"
      ],
      "metadata": {
        "id": "3CosH8TtPyEC"
      }
    },
    {
      "cell_type": "code",
      "source": [
        "class RemoteStation(nn.Module):\n",
        "    def __init__(\n",
        "        self,\n",
        "        dim_model,\n",
        "        num_heads,\n",
        "        num_encoder_layers,\n",
        "        num_decoder_layers,\n",
        "        dropout_p,\n",
        "    ):\n",
        "        super().__init__()\n",
        "\n",
        "        self.model_type = 'remote stations model'\n",
        "\n",
        "        # LAYERS\n",
        "        self.linear1 = nn.Linear(dim_model[2], 1)\n",
        "        self.linear2 = nn.Linear(dim_model[0], 300)\n",
        "        self.linear3 = nn.Linear(300,1)\n",
        "        self.relu = nn.ReLU()\n",
        "        self.transformer = Transformer(num_tokens=23, dim_model= dim_model[1], num_heads=num_heads, num_encoder_layers=num_encoder_layers, num_decoder_layers=num_decoder_layers, dropout_p=dropout_p)\n",
        "        self.out = nn.Linear(23, 1)\n",
        "    \n",
        "\n",
        "    def forward(self, X):\n",
        "        linear1_out = self.linear1(X)\n",
        "        linear1_out = torch.reshape(linear1_out, (linear1_out.shape[0], linear1_out.shape[1], -1))\n",
        "        linear1_out = linear1_out.permute(0,2,1)\n",
        "        linear2_out = self.linear2(linear1_out)\n",
        "        linear3_out = self.linear3(linear2_out)\n",
        "        linear3_out = self.relu(linear3_out)\n",
        "        linear3_out = linear3_out.permute(0,2,1)\n",
        "        linear3_out_reshaped = torch.reshape(linear3_out, (linear3_out.shape[0], -1))\n",
        "\n",
        "\n",
        "        sequence_length = linear3_out_reshaped[:,:-1].size(1)\n",
        "\n",
        "        tgt_mask = self.transformer.get_tgt_mask(sequence_length).to(device)\n",
        "\n",
        "        transformer_out = self.transformer(linear3_out_reshaped[:,:-1], linear3_out_reshaped[:,1:], tgt_mask)\n",
        "        transformer_out = transformer_out.permute(1,2,0)\n",
        "        \n",
        "        out = self.out(transformer_out)\n",
        "        out = torch.reshape(out, (out.shape[0], -1))\n",
        "        return out"
      ],
      "metadata": {
        "id": "3-li1Iz1C7Vf"
      },
      "execution_count": 8,
      "outputs": []
    },
    {
      "cell_type": "markdown",
      "source": [
        "## Combining Both and Final Model"
      ],
      "metadata": {
        "id": "z0L-DS_SQGx_"
      }
    },
    {
      "cell_type": "code",
      "source": [
        "class MyModel(nn.Module):\n",
        "    def __init__(\n",
        "        self,\n",
        "        dim_model_local,\n",
        "        dim_model_remote,\n",
        "        num_heads,\n",
        "        num_encoder_layers,\n",
        "        num_decoder_layers,\n",
        "        dropout_p,\n",
        "    ):\n",
        "        super().__init__()\n",
        "\n",
        "        self.local = LocalStation(\n",
        "            dim_model=dim_model_local, num_heads=num_heads, num_encoder_layers=num_encoder_layers, num_decoder_layers=num_decoder_layers, dropout_p=dropout_p\n",
        "        )  \n",
        "        self.linear1 = nn.Linear(dim_model_local[0], 300)\n",
        "        self.relu = nn.ReLU()\n",
        "        self.remote = RemoteStation(\n",
        "            dim_model=dim_model_remote, num_heads=num_heads, num_encoder_layers=num_encoder_layers, num_decoder_layers=num_decoder_layers, dropout_p=dropout_p\n",
        "        )\n",
        "        self.linear2 = nn.Linear(dim_model_remote[1], 300)\n",
        "\n",
        "        self.linear3 = nn.Linear(300, 1)\n",
        "        self.out = nn.Linear(2, 1)\n",
        "\n",
        "    def forward(self, X_local, X_remote):\n",
        "        local_out = self.local(X_local)\n",
        "        local_linear_out = self.linear1(local_out)\n",
        "        local_linear_out = self.relu(local_linear_out)\n",
        "        local_linear_out = torch.reshape(local_linear_out, (local_linear_out.shape[0], 1, -1))\n",
        "\n",
        "        remote_out = self.remote(X_remote)\n",
        "        remote_linear_out = self.linear2(remote_out)\n",
        "        remote_linear_out = self.relu(remote_linear_out)\n",
        "        remote_linear_out = torch.reshape(remote_linear_out, (remote_linear_out.shape[0], 1, -1))\n",
        "\n",
        "        concate = torch.cat([local_linear_out, remote_linear_out], dim = 1)\n",
        "\n",
        "        linear3_out = self.linear3(concate)\n",
        "        linear3_out = self.relu(linear3_out)\n",
        "        linear3_out = torch.reshape(linear3_out, (linear3_out.shape[0], -1))\n",
        "        out = self.out(linear3_out)\n",
        "        out = self.relu(out)\n",
        "        out = torch.reshape(out, (out.shape[0],))\n",
        "\n",
        "        return out\n"
      ],
      "metadata": {
        "id": "q-9L-l2iFnB0"
      },
      "execution_count": 9,
      "outputs": []
    },
    {
      "cell_type": "markdown",
      "source": [
        "# Training"
      ],
      "metadata": {
        "id": "IaX6IuZYQPDL"
      }
    },
    {
      "cell_type": "code",
      "source": [
        "X_local = np.load('Data/Final_Data_Transformers/final_transformers_local_met_data_train.npz', allow_pickle=True)['arr_0']\n",
        "X_remote = np.load('Data/Final_Data_Transformers/final_transformers_station_metaq_data_train.npz', allow_pickle=True)['arr_0']\n",
        "y_train = np.load('Data/Final_Data_Transformers/transformers_local_aq_data_train.npz', allow_pickle=True)['arr_0']\n",
        "y_train = y_train.reshape((-1,))"
      ],
      "metadata": {
        "id": "2jiBg0WKH-42"
      },
      "execution_count": 10,
      "outputs": []
    },
    {
      "cell_type": "code",
      "source": [
        "batched_train_data = batchify_data(X_local, X_remote, y_train)"
      ],
      "metadata": {
        "id": "81IxDElX7tXW"
      },
      "execution_count": null,
      "outputs": []
    },
    {
      "cell_type": "code",
      "source": [
        "device = \"cuda\" if torch.cuda.is_available() else \"cpu\"\n",
        "model = MyModel(\n",
        "    dim_model_local=list(X_local.shape[1:]), dim_model_remote=list(X_remote.shape[1:]), num_heads=2, num_encoder_layers=3, num_decoder_layers=3, dropout_p=0.1\n",
        ").to(device)\n",
        "opt = torch.optim.SGD(model.parameters(), lr=0.001)\n",
        "loss_fn = nn.MSELoss()"
      ],
      "metadata": {
        "id": "mWZuxveFAZT5"
      },
      "execution_count": null,
      "outputs": []
    },
    {
      "cell_type": "code",
      "source": [
        "def train_loop(model, opt, loss_fn):\n",
        "    model.train()\n",
        "    total_loss = 0\n",
        "\n",
        "    preds = []\n",
        "    for i in tqdm(range(len(batched_train_data))):\n",
        "        X_l, X_r, y = batched_train_data[i][0], batched_train_data[i][1], batched_train_data[i][2]\n",
        "        X_l, X_r, y = torch.tensor(X_l).to(device).float(), torch.tensor(X_r).to(device).float(), torch.tensor(y).to(device).float()\n",
        "\n",
        "        pred = model(X_l, X_r)\n",
        "        preds.append(pred.detach().numpy().reshape(-1))\n",
        "        loss = loss_fn(pred, y)\n",
        "        opt.zero_grad()\n",
        "        loss.backward()\n",
        "        opt.step()\n",
        "    \n",
        "    preds = np.array(preds)\n",
        "    preds = preds.flatten()\n",
        "    total_loss = np.sqrt(mean_squared_error(preds, y_train))\n",
        "    \n",
        "    return total_loss"
      ],
      "metadata": {
        "id": "NHmP_n0GB8ps"
      },
      "execution_count": 14,
      "outputs": []
    },
    {
      "cell_type": "code",
      "source": [
        "def fit(model, opt, loss_fn, epochs):\n",
        "    \"\"\"\n",
        "    Method from \"A detailed guide to Pytorch's nn.Transformer() module.\", by\n",
        "    Daniel Melchor: https://medium.com/@danielmelchor/a-detailed-guide-to-pytorchs-nn-transformer-module-c80afbc9ffb1\n",
        "    \"\"\"\n",
        "    \n",
        "    # Used for plotting later on\n",
        "    train_loss_list = []\n",
        "    \n",
        "    print(\"Training model\")\n",
        "    for epoch in range(epochs):\n",
        "        print(\"-\"*25, f\"Epoch {epoch + 1}\",\"-\"*25)\n",
        "        \n",
        "        train_loss = train_loop(model, opt, loss_fn)\n",
        "        torch.save(model.state_dict(), f'./Model Checkpoints/model_{epoch}_epoch.pt')\n",
        "        train_loss_list += [train_loss]\n",
        "        \n",
        "        print(f\"Training loss: {train_loss:.4f}\")\n",
        "        print()\n",
        "        \n",
        "    return train_loss_list\n",
        "    \n",
        "train_loss_list = fit(model, opt, loss_fn, 10)"
      ],
      "metadata": {
        "id": "hoKILnILB8nO"
      },
      "execution_count": null,
      "outputs": []
    },
    {
      "cell_type": "markdown",
      "source": [
        "Plotting Train Loss"
      ],
      "metadata": {
        "id": "Syp_w07DQtBP"
      }
    },
    {
      "cell_type": "code",
      "source": [
        "x = np.arange(10)\n",
        "plt.plot(x, train_loss_list)\n",
        "plt.title(\"Train Loss vs Epoch\")\n",
        "plt.xlabel('Epochs')\n",
        "plt.ylabel('Train Loss')\n",
        "plt.savefig('./FinalReportandppt/Plots/train_loss_vs_epochs.png')\n",
        "plt.show()"
      ],
      "metadata": {
        "colab": {
          "base_uri": "https://localhost:8080/",
          "height": 295
        },
        "id": "cSRyRvMQkans",
        "outputId": "ff8f9807-aea0-4a58-ba85-42b27463d767"
      },
      "execution_count": null,
      "outputs": [
        {
          "output_type": "display_data",
          "data": {
            "text/plain": [
              "<Figure size 432x288 with 1 Axes>"
            ],
            "image/png": "[encoded data removed]"
          },
          "metadata": {
            "needs_background": "light"
          }
        }
      ]
    },
    {
      "cell_type": "code",
      "source": [
        ""
      ],
      "metadata": {
        "colab": {
          "base_uri": "https://localhost:8080/",
          "height": 34
        },
        "id": "esBqmKCYlNYJ",
        "outputId": "d372a830-4993-4615-e4da-bf1955d9a04f"
      },
      "execution_count": null,
      "outputs": [
        {
          "output_type": "display_data",
          "data": {
            "text/plain": [
              "<Figure size 432x288 with 0 Axes>"
            ]
          },
          "metadata": {}
        }
      ]
    },
    {
      "cell_type": "markdown",
      "source": [
        "# Testing"
      ],
      "metadata": {
        "id": "31qeIbd6QyJH"
      }
    },
    {
      "cell_type": "code",
      "source": [
        "X_local_test = np.load('Data/Final_Data_Transformers/final_transformers_local_met_data_test.npz', allow_pickle=True)['arr_0']\n",
        "X_remote_test = np.load('Data/Final_Data_Transformers/final_transformers_station_metaq_data_test.npz', allow_pickle=True)['arr_0']\n",
        "y_test = np.load('Data/Final_Data_Transformers/transformers_local_aq_data_test.npz', allow_pickle=True)['arr_0']\n",
        "y_test = y_test.reshape((-1,))"
      ],
      "metadata": {
        "id": "TuH3rALKROd9"
      },
      "execution_count": 23,
      "outputs": []
    },
    {
      "cell_type": "code",
      "source": [
        "X_local_test.shape, X_remote_test.shape, y_test.shape"
      ],
      "metadata": {
        "colab": {
          "base_uri": "https://localhost:8080/"
        },
        "id": "34FZQq-pX5ST",
        "outputId": "39c5b904-1bbb-4787-e308-384288707067"
      },
      "execution_count": 30,
      "outputs": [
        {
          "output_type": "execute_result",
          "data": {
            "text/plain": [
              "((8628, 24, 30), (8628, 23, 24, 31), (8628,))"
            ]
          },
          "metadata": {},
          "execution_count": 30
        }
      ]
    },
    {
      "cell_type": "code",
      "source": [
        "# Load Model\n",
        "device = \"cuda\" if torch.cuda.is_available() else \"cpu\"\n",
        "model = MyModel(\n",
        "    dim_model_local=list(X_local.shape[1:]), dim_model_remote=list(X_remote.shape[1:]), num_heads=2, num_encoder_layers=3, num_decoder_layers=3, dropout_p=0.1\n",
        ").to(device)\n",
        "opt = torch.optim.SGD(model.parameters(), lr=0.001)\n",
        "loss_fn = nn.MSELoss()\n",
        "model.load_state_dict(torch.load('./Model Checkpoints/model_9_epoch.pt'))\n",
        "model.eval()"
      ],
      "metadata": {
        "id": "zO5TEsB_Q0-n"
      },
      "execution_count": null,
      "outputs": []
    },
    {
      "cell_type": "code",
      "source": [
        "def predict(model, X_local, X_remote):\n",
        "    model.eval()\n",
        "    X_l, X_r= torch.tensor(X_local).to(device).float(), torch.tensor(X_remote).to(device).float()\n",
        "    pred = model(X_l, X_r)\n",
        "    return pred.detach().item()"
      ],
      "metadata": {
        "id": "CA15CBd7TRJd"
      },
      "execution_count": 20,
      "outputs": []
    },
    {
      "cell_type": "code",
      "source": [
        "batched_test_data = batchify_data(X_local_test, X_remote_test, y_test, batch_size=12)"
      ],
      "metadata": {
        "id": "hg3u3weqSEU8"
      },
      "execution_count": 35,
      "outputs": []
    },
    {
      "cell_type": "code",
      "source": [
        "def test_loop(model, loss_fn):\n",
        "    model.eval()\n",
        "    total_loss = 0\n",
        "\n",
        "    preds = []\n",
        "    for i in tqdm(range(len(batched_test_data))):\n",
        "        X_l, X_r, y = batched_test_data[i][0], batched_test_data[i][1], batched_test_data[i][2]\n",
        "        X_l, X_r, y = torch.tensor(X_l).to(device).float(), torch.tensor(X_r).to(device).float(), torch.tensor(y).to(device).float()\n",
        "\n",
        "        pred = model(X_l, X_r)\n",
        "        preds.append(pred.detach().numpy().reshape(-1))\n",
        "    \n",
        "    preds = np.array(preds)\n",
        "    preds = preds.flatten()\n",
        "    total_loss = np.sqrt(mean_squared_error(preds, y_test))\n",
        "    \n",
        "    return total_loss"
      ],
      "metadata": {
        "id": "gPJQld15R-U0"
      },
      "execution_count": 36,
      "outputs": []
    },
    {
      "cell_type": "code",
      "source": [
        "test_loss = test_loop(model, loss_fn)"
      ],
      "metadata": {
        "colab": {
          "base_uri": "https://localhost:8080/"
        },
        "id": "W7u1aov1R2iX",
        "outputId": "25b1515c-0c53-4b0e-a0a5-d3d200e05137"
      },
      "execution_count": 37,
      "outputs": [
        {
          "output_type": "stream",
          "name": "stderr",
          "text": [
            "100%|██████████| 719/719 [00:51<00:00, 14.04it/s]\n"
          ]
        }
      ]
    },
    {
      "cell_type": "code",
      "source": [
        "test_loss"
      ],
      "metadata": {
        "id": "09VopFMdWs3F",
        "colab": {
          "base_uri": "https://localhost:8080/"
        },
        "outputId": "a55ebf2c-ec6f-41e6-868e-304bf2b94fcb"
      },
      "execution_count": 38,
      "outputs": [
        {
          "output_type": "execute_result",
          "data": {
            "text/plain": [
              "4.36726488614612"
            ]
          },
          "metadata": {},
          "execution_count": 38
        }
      ]
    }
  ]
}